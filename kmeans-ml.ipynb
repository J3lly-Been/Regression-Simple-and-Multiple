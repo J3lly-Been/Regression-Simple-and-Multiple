{
 "cells": [
  {
   "cell_type": "code",
   "execution_count": 1,
   "id": "fe641e07",
   "metadata": {
    "execution": {
     "iopub.execute_input": "2023-01-03T09:50:11.082884Z",
     "iopub.status.busy": "2023-01-03T09:50:11.082266Z",
     "iopub.status.idle": "2023-01-03T09:50:11.095051Z",
     "shell.execute_reply": "2023-01-03T09:50:11.094090Z"
    },
    "papermill": {
     "duration": 0.020674,
     "end_time": "2023-01-03T09:50:11.097447",
     "exception": false,
     "start_time": "2023-01-03T09:50:11.076773",
     "status": "completed"
    },
    "tags": []
   },
   "outputs": [],
   "source": [
    "# K-means clustering using Python\n",
    "# import packages\n",
    "import numpy as np\n",
    "import matplotlib.pyplot as plt\n",
    "import pandas as pd"
   ]
  },
  {
   "cell_type": "code",
   "execution_count": 2,
   "id": "7920f22f",
   "metadata": {
    "execution": {
     "iopub.execute_input": "2023-01-03T09:50:11.104158Z",
     "iopub.status.busy": "2023-01-03T09:50:11.103707Z",
     "iopub.status.idle": "2023-01-03T09:50:11.115242Z",
     "shell.execute_reply": "2023-01-03T09:50:11.114028Z"
    },
    "papermill": {
     "duration": 0.017341,
     "end_time": "2023-01-03T09:50:11.117447",
     "exception": false,
     "start_time": "2023-01-03T09:50:11.100106",
     "status": "completed"
    },
    "tags": []
   },
   "outputs": [
    {
     "data": {
      "text/plain": [
       "[[0.1, 0.6],\n",
       " [0.15, 0.71],\n",
       " [0.08, 0.9],\n",
       " [0.16, 0.85],\n",
       " [0.2, 0.3],\n",
       " [0.25, 0.5],\n",
       " [0.24, 0.1],\n",
       " [0.3, 0.2]]"
      ]
     },
     "execution_count": 2,
     "metadata": {},
     "output_type": "execute_result"
    }
   ],
   "source": [
    "# Create dataset\n",
    "X =[[0.1,0.6], [0.15, 0.71], [0.08, 0.9], [0.16,0.85], [0.2,0.3], [0.25, 0.5], [0.24,0.1], [0.3,0.2]]\n",
    "X"
   ]
  },
  {
   "cell_type": "code",
   "execution_count": 3,
   "id": "d08ee99f",
   "metadata": {
    "execution": {
     "iopub.execute_input": "2023-01-03T09:50:11.125066Z",
     "iopub.status.busy": "2023-01-03T09:50:11.123854Z",
     "iopub.status.idle": "2023-01-03T09:50:11.131123Z",
     "shell.execute_reply": "2023-01-03T09:50:11.129667Z"
    },
    "papermill": {
     "duration": 0.013601,
     "end_time": "2023-01-03T09:50:11.133860",
     "exception": false,
     "start_time": "2023-01-03T09:50:11.120259",
     "status": "completed"
    },
    "tags": []
   },
   "outputs": [
    {
     "name": "stdout",
     "output_type": "stream",
     "text": [
      "Initial Centroids: \n",
      " [[0.1 0.6]\n",
      " [0.3 0.2]]\n"
     ]
    }
   ],
   "source": [
    "# Initial centroid points \n",
    "centers = np.array([[0.1 , 0.6], [0.3 , 0.2]]) \n",
    "print('Initial Centroids: \\n', centers)"
   ]
  },
  {
   "cell_type": "code",
   "execution_count": 4,
   "id": "d970b88b",
   "metadata": {
    "execution": {
     "iopub.execute_input": "2023-01-03T09:50:11.141019Z",
     "iopub.status.busy": "2023-01-03T09:50:11.140589Z",
     "iopub.status.idle": "2023-01-03T09:50:12.569040Z",
     "shell.execute_reply": "2023-01-03T09:50:12.567729Z"
    },
    "papermill": {
     "duration": 1.435989,
     "end_time": "2023-01-03T09:50:12.572443",
     "exception": false,
     "start_time": "2023-01-03T09:50:11.136454",
     "status": "completed"
    },
    "tags": []
   },
   "outputs": [
    {
     "name": "stdout",
     "output_type": "stream",
     "text": [
      "Labels:  [0 0 0 0 1 0 1 1]\n"
     ]
    }
   ],
   "source": [
    "# Import KMeans class\n",
    "from sklearn.cluster import KMeans\n",
    "\n",
    "model = KMeans(n_clusters = 2, init = centers, n_init = 1) \n",
    "model.fit(X)\n",
    "print ('Labels: ', model.labels_)"
   ]
  },
  {
   "cell_type": "code",
   "execution_count": 5,
   "id": "b7c4f1ff",
   "metadata": {
    "execution": {
     "iopub.execute_input": "2023-01-03T09:50:12.581729Z",
     "iopub.status.busy": "2023-01-03T09:50:12.580792Z",
     "iopub.status.idle": "2023-01-03T09:50:12.590703Z",
     "shell.execute_reply": "2023-01-03T09:50:12.589040Z"
    },
    "papermill": {
     "duration": 0.018556,
     "end_time": "2023-01-03T09:50:12.594146",
     "exception": false,
     "start_time": "2023-01-03T09:50:12.575590",
     "status": "completed"
    },
    "tags": []
   },
   "outputs": [
    {
     "name": "stdout",
     "output_type": "stream",
     "text": [
      "P6 Belongs to cluster :  0\n",
      "No of population around cluster 2 : 3\n",
      "\n",
      "New Centroids: \n",
      " [[0.148      0.712     ]\n",
      " [0.24666667 0.2       ]] \n",
      "\n",
      "Previous Centroids : \n",
      " [[0.1 0.6]\n",
      " [0.3 0.2]]\n"
     ]
    }
   ],
   "source": [
    "# Find P6 location\n",
    "print('P6 Belongs to cluster : ', model.labels_[5])\n",
    "\n",
    "# Using labels find population around centroid \n",
    "print('No of population around cluster 2 :', np.count_nonzero(model.labels_ == 1))\n",
    "\n",
    "# Find new centroids\n",
    "print('\\nNew Centroids: \\n', model.cluster_centers_,\"\\n\")\n",
    "print('Previous Centroids : \\n',centers)"
   ]
  }
 ],
 "metadata": {
  "kernelspec": {
   "display_name": "Python 3",
   "language": "python",
   "name": "python3"
  },
  "language_info": {
   "codemirror_mode": {
    "name": "ipython",
    "version": 3
   },
   "file_extension": ".py",
   "mimetype": "text/x-python",
   "name": "python",
   "nbconvert_exporter": "python",
   "pygments_lexer": "ipython3",
   "version": "3.7.12"
  },
  "papermill": {
   "default_parameters": {},
   "duration": 10.895615,
   "end_time": "2023-01-03T09:50:13.319489",
   "environment_variables": {},
   "exception": null,
   "input_path": "__notebook__.ipynb",
   "output_path": "__notebook__.ipynb",
   "parameters": {},
   "start_time": "2023-01-03T09:50:02.423874",
   "version": "2.3.4"
  }
 },
 "nbformat": 4,
 "nbformat_minor": 5
}
