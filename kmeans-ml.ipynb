{
 "cells": [
  {
   "cell_type": "code",
   "execution_count": 1,
   "id": "d199e662",
   "metadata": {
    "execution": {
     "iopub.execute_input": "2023-01-03T09:49:30.017240Z",
     "iopub.status.busy": "2023-01-03T09:49:30.016703Z",
     "iopub.status.idle": "2023-01-03T09:49:30.030768Z",
     "shell.execute_reply": "2023-01-03T09:49:30.029380Z"
    },
    "papermill": {
     "duration": 0.022183,
     "end_time": "2023-01-03T09:49:30.033341",
     "exception": false,
     "start_time": "2023-01-03T09:49:30.011158",
     "status": "completed"
    },
    "tags": []
   },
   "outputs": [],
   "source": [
    "# K-means clustering using Python\n",
    "# import packages\n",
    "import numpy as np\n",
    "import matplotlib.pyplot as plt\n",
    "import pandas as pd"
   ]
  },
  {
   "cell_type": "code",
   "execution_count": 2,
   "id": "bc8ff87a",
   "metadata": {
    "execution": {
     "iopub.execute_input": "2023-01-03T09:49:30.040183Z",
     "iopub.status.busy": "2023-01-03T09:49:30.039708Z",
     "iopub.status.idle": "2023-01-03T09:49:30.051013Z",
     "shell.execute_reply": "2023-01-03T09:49:30.049880Z"
    },
    "papermill": {
     "duration": 0.018192,
     "end_time": "2023-01-03T09:49:30.054112",
     "exception": false,
     "start_time": "2023-01-03T09:49:30.035920",
     "status": "completed"
    },
    "tags": []
   },
   "outputs": [
    {
     "data": {
      "text/plain": [
       "[[0.1, 0.6],\n",
       " [0.15, 0.71],\n",
       " [0.08, 0.9],\n",
       " [0.16, 0.85],\n",
       " [0.2, 0.3],\n",
       " [0.25, 0.5],\n",
       " [0.24, 0.1],\n",
       " [0.3, 0.2]]"
      ]
     },
     "execution_count": 2,
     "metadata": {},
     "output_type": "execute_result"
    }
   ],
   "source": [
    "# Create dataset\n",
    "X =[[0.1,0.6], [0.15, 0.71], [0.08, 0.9], [0.16,0.85], [0.2,0.3], [0.25, 0.5], [0.24,0.1], [0.3,0.2]]\n",
    "X"
   ]
  },
  {
   "cell_type": "code",
   "execution_count": 3,
   "id": "8fb653e1",
   "metadata": {
    "execution": {
     "iopub.execute_input": "2023-01-03T09:49:30.061298Z",
     "iopub.status.busy": "2023-01-03T09:49:30.060543Z",
     "iopub.status.idle": "2023-01-03T09:49:30.067605Z",
     "shell.execute_reply": "2023-01-03T09:49:30.066759Z"
    },
    "papermill": {
     "duration": 0.013877,
     "end_time": "2023-01-03T09:49:30.070762",
     "exception": false,
     "start_time": "2023-01-03T09:49:30.056885",
     "status": "completed"
    },
    "tags": []
   },
   "outputs": [
    {
     "name": "stdout",
     "output_type": "stream",
     "text": [
      "Initial Centroids: \n",
      " [[0.1 0.6]\n",
      " [0.3 0.2]]\n"
     ]
    }
   ],
   "source": [
    "# Initial centroid points \n",
    "centers = np.array([[0.1 , 0.6], [0.3 , 0.2]]) \n",
    "print('Initial Centroids: \\n', centers)"
   ]
  },
  {
   "cell_type": "code",
   "execution_count": 4,
   "id": "9572cf5b",
   "metadata": {
    "execution": {
     "iopub.execute_input": "2023-01-03T09:49:30.079972Z",
     "iopub.status.busy": "2023-01-03T09:49:30.078714Z",
     "iopub.status.idle": "2023-01-03T09:49:31.361141Z",
     "shell.execute_reply": "2023-01-03T09:49:31.359597Z"
    },
    "papermill": {
     "duration": 1.289541,
     "end_time": "2023-01-03T09:49:31.364364",
     "exception": false,
     "start_time": "2023-01-03T09:49:30.074823",
     "status": "completed"
    },
    "tags": []
   },
   "outputs": [
    {
     "name": "stdout",
     "output_type": "stream",
     "text": [
      "Labels:  [0 0 0 0 1 0 1 1]\n"
     ]
    }
   ],
   "source": [
    "# Import KMeans class\n",
    "from sklearn.cluster import KMeans\n",
    "\n",
    "model = KMeans(n_clusters = 2, init = centers, n_init = 1) \n",
    "model.fit(X)\n",
    "print ('Labels: ', model.labels_)"
   ]
  },
  {
   "cell_type": "code",
   "execution_count": 5,
   "id": "7dc5f5fd",
   "metadata": {
    "execution": {
     "iopub.execute_input": "2023-01-03T09:49:31.372341Z",
     "iopub.status.busy": "2023-01-03T09:49:31.371942Z",
     "iopub.status.idle": "2023-01-03T09:49:31.381124Z",
     "shell.execute_reply": "2023-01-03T09:49:31.379626Z"
    },
    "papermill": {
     "duration": 0.015821,
     "end_time": "2023-01-03T09:49:31.383431",
     "exception": false,
     "start_time": "2023-01-03T09:49:31.367610",
     "status": "completed"
    },
    "tags": []
   },
   "outputs": [
    {
     "name": "stdout",
     "output_type": "stream",
     "text": [
      "P6 Belongs to cluster :  0\n",
      "No of population around cluster 2 : 3\n",
      "\n",
      "New Centroids: \n",
      " [[0.148      0.712     ]\n",
      " [0.24666667 0.2       ]] \n",
      "\n",
      "Previous Centroids : \n",
      " [[0.1 0.6]\n",
      " [0.3 0.2]]\n"
     ]
    }
   ],
   "source": [
    "# Find P6 location\n",
    "print('P6 Belongs to cluster : ', model.labels_[5])\n",
    "\n",
    "# Using labels find population around centroid \n",
    "print('No of population around cluster 2 :', np.count_nonzero(model.labels_ == 1))\n",
    "\n",
    "# Find new centroids\n",
    "print('\\nNew Centroids: \\n', model.cluster_centers_,\"\\n\")\n",
    "print('Previous Centroids : \\n',centers)"
   ]
  }
 ],
 "metadata": {
  "kernelspec": {
   "display_name": "Python 3",
   "language": "python",
   "name": "python3"
  },
  "language_info": {
   "codemirror_mode": {
    "name": "ipython",
    "version": 3
   },
   "file_extension": ".py",
   "mimetype": "text/x-python",
   "name": "python",
   "nbconvert_exporter": "python",
   "pygments_lexer": "ipython3",
   "version": "3.7.12"
  },
  "papermill": {
   "default_parameters": {},
   "duration": 10.672454,
   "end_time": "2023-01-03T09:49:32.208448",
   "environment_variables": {},
   "exception": null,
   "input_path": "__notebook__.ipynb",
   "output_path": "__notebook__.ipynb",
   "parameters": {},
   "start_time": "2023-01-03T09:49:21.535994",
   "version": "2.3.4"
  }
 },
 "nbformat": 4,
 "nbformat_minor": 5
}
