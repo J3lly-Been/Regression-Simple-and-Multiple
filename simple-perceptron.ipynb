{
 "cells": [
  {
   "cell_type": "code",
   "execution_count": 1,
   "id": "f547b793",
   "metadata": {
    "execution": {
     "iopub.execute_input": "2023-05-31T10:36:12.039730Z",
     "iopub.status.busy": "2023-05-31T10:36:12.039121Z",
     "iopub.status.idle": "2023-05-31T10:36:12.067833Z",
     "shell.execute_reply": "2023-05-31T10:36:12.066312Z"
    },
    "papermill": {
     "duration": 0.036744,
     "end_time": "2023-05-31T10:36:12.071412",
     "exception": false,
     "start_time": "2023-05-31T10:36:12.034668",
     "status": "completed"
    },
    "tags": []
   },
   "outputs": [
    {
     "name": "stdout",
     "output_type": "stream",
     "text": [
      "Random starting synaptic weights: \n",
      "[[-0.16595599]\n",
      " [ 0.44064899]\n",
      " [-0.99977125]]\n",
      "\n",
      "Outputs after training: \n",
      "[[0.2689864 ]\n",
      " [0.3262757 ]\n",
      " [0.23762817]\n",
      " [0.36375058]]\n"
     ]
    },
    {
     "data": {
      "text/plain": [
       "[[0.2689864], [0.3262757], [0.23762817], [0.36375058]]"
      ]
     },
     "execution_count": 1,
     "metadata": {},
     "output_type": "execute_result"
    }
   ],
   "source": [
    "import numpy as np\n",
    "\n",
    "def sigmoid(x):\n",
    "    return 1 / (1 + np.exp(-x))\n",
    "\n",
    "training_inputs = np.array([[0,0,1],\n",
    "                           [1,1,1],\n",
    "                           [1,0,1],\n",
    "                           [0,1,1]])\n",
    "\n",
    "training_outputs = np.array([[0,1,1,0]]).T\n",
    "\n",
    "np.random.seed(1)\n",
    "\n",
    "synaptic_weights = 2 * np.random.random((3,1)) -1\n",
    "\n",
    "print('Random starting synaptic weights: ')\n",
    "print(synaptic_weights)\n",
    "\n",
    "# Result -Random starting synaptic weights: \n",
    "[[-0.16595599],\n",
    " [ 0.44064899],\n",
    " [-0.99977125]]\n",
    "\n",
    "for iteration in range(1):\n",
    "    input_layer = training_inputs\n",
    "\n",
    "outputs = sigmoid(np.dot(input_layer, synaptic_weights))\n",
    "\n",
    "print(\"\")\n",
    "print('Outputs after training: ')\n",
    "print(outputs)\n",
    "\n",
    "# Output -Outputs after training: \n",
    "[[0.2689864 ],\n",
    " [0.3262757 ],\n",
    " [0.23762817],\n",
    " [0.36375058]]\n"
   ]
  }
 ],
 "metadata": {
  "kernelspec": {
   "display_name": "Python 3",
   "language": "python",
   "name": "python3"
  },
  "language_info": {
   "codemirror_mode": {
    "name": "ipython",
    "version": 3
   },
   "file_extension": ".py",
   "mimetype": "text/x-python",
   "name": "python",
   "nbconvert_exporter": "python",
   "pygments_lexer": "ipython3",
   "version": "3.10.10"
  },
  "papermill": {
   "default_parameters": {},
   "duration": 11.082871,
   "end_time": "2023-05-31T10:36:12.997655",
   "environment_variables": {},
   "exception": null,
   "input_path": "__notebook__.ipynb",
   "output_path": "__notebook__.ipynb",
   "parameters": {},
   "start_time": "2023-05-31T10:36:01.914784",
   "version": "2.4.0"
  }
 },
 "nbformat": 4,
 "nbformat_minor": 5
}
