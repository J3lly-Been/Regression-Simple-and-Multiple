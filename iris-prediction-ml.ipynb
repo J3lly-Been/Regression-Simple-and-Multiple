{
 "cells": [
  {
   "cell_type": "code",
   "execution_count": 1,
   "id": "86681e93",
   "metadata": {
    "execution": {
     "iopub.execute_input": "2022-12-05T09:38:13.509013Z",
     "iopub.status.busy": "2022-12-05T09:38:13.508169Z",
     "iopub.status.idle": "2022-12-05T09:38:15.050605Z",
     "shell.execute_reply": "2022-12-05T09:38:15.048950Z"
    },
    "papermill": {
     "duration": 1.551778,
     "end_time": "2022-12-05T09:38:15.054365",
     "exception": false,
     "start_time": "2022-12-05T09:38:13.502587",
     "status": "completed"
    },
    "tags": []
   },
   "outputs": [],
   "source": [
    "import pandas as pd\n",
    "import matplotlib.pyplot as plt\n",
    "from sklearn.linear_model import LogisticRegression\n",
    "from sklearn.datasets import load_iris\n",
    "import numpy as np"
   ]
  },
  {
   "cell_type": "code",
   "execution_count": 2,
   "id": "a3306ccf",
   "metadata": {
    "execution": {
     "iopub.execute_input": "2022-12-05T09:38:15.060739Z",
     "iopub.status.busy": "2022-12-05T09:38:15.059757Z",
     "iopub.status.idle": "2022-12-05T09:38:15.116142Z",
     "shell.execute_reply": "2022-12-05T09:38:15.114267Z"
    },
    "papermill": {
     "duration": 0.062569,
     "end_time": "2022-12-05T09:38:15.119156",
     "exception": false,
     "start_time": "2022-12-05T09:38:15.056587",
     "status": "completed"
    },
    "tags": []
   },
   "outputs": [
    {
     "name": "stdout",
     "output_type": "stream",
     "text": [
      "0.9733333333333334\n"
     ]
    },
    {
     "name": "stderr",
     "output_type": "stream",
     "text": [
      "/opt/conda/lib/python3.7/site-packages/sklearn/linear_model/_logistic.py:818: ConvergenceWarning: lbfgs failed to converge (status=1):\n",
      "STOP: TOTAL NO. of ITERATIONS REACHED LIMIT.\n",
      "\n",
      "Increase the number of iterations (max_iter) or scale the data as shown in:\n",
      "    https://scikit-learn.org/stable/modules/preprocessing.html\n",
      "Please also refer to the documentation for alternative solver options:\n",
      "    https://scikit-learn.org/stable/modules/linear_model.html#logistic-regression\n",
      "  extra_warning_msg=_LOGISTIC_SOLVER_CONVERGENCE_MSG,\n"
     ]
    }
   ],
   "source": [
    "X,y = load_iris(return_X_y=True)\n",
    "clf = LogisticRegression().fit(X,y)\n",
    "pred = clf.predict(X[:2,:])\n",
    "proba = clf.predict_proba(X[:2,:])\n",
    "print(clf.score(X,y))"
   ]
  },
  {
   "cell_type": "code",
   "execution_count": null,
   "id": "f21d4aa4",
   "metadata": {
    "papermill": {
     "duration": 0.001768,
     "end_time": "2022-12-05T09:38:15.123264",
     "exception": false,
     "start_time": "2022-12-05T09:38:15.121496",
     "status": "completed"
    },
    "tags": []
   },
   "outputs": [],
   "source": []
  }
 ],
 "metadata": {
  "kernelspec": {
   "display_name": "Python 3",
   "language": "python",
   "name": "python3"
  },
  "language_info": {
   "codemirror_mode": {
    "name": "ipython",
    "version": 3
   },
   "file_extension": ".py",
   "mimetype": "text/x-python",
   "name": "python",
   "nbconvert_exporter": "python",
   "pygments_lexer": "ipython3",
   "version": "3.7.12"
  },
  "papermill": {
   "default_parameters": {},
   "duration": 13.194011,
   "end_time": "2022-12-05T09:38:16.052855",
   "environment_variables": {},
   "exception": null,
   "input_path": "__notebook__.ipynb",
   "output_path": "__notebook__.ipynb",
   "parameters": {},
   "start_time": "2022-12-05T09:38:02.858844",
   "version": "2.3.4"
  }
 },
 "nbformat": 4,
 "nbformat_minor": 5
}
