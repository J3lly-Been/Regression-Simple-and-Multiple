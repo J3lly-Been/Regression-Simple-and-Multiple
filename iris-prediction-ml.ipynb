{
 "cells": [
  {
   "cell_type": "code",
   "execution_count": 1,
   "id": "6b2d28ae",
   "metadata": {
    "execution": {
     "iopub.execute_input": "2022-12-05T09:39:08.409950Z",
     "iopub.status.busy": "2022-12-05T09:39:08.409080Z",
     "iopub.status.idle": "2022-12-05T09:39:09.863438Z",
     "shell.execute_reply": "2022-12-05T09:39:09.861741Z"
    },
    "papermill": {
     "duration": 1.46201,
     "end_time": "2022-12-05T09:39:09.866219",
     "exception": false,
     "start_time": "2022-12-05T09:39:08.404209",
     "status": "completed"
    },
    "tags": []
   },
   "outputs": [],
   "source": [
    "import pandas as pd\n",
    "import matplotlib.pyplot as plt\n",
    "from sklearn.linear_model import LogisticRegression\n",
    "from sklearn.datasets import load_iris\n",
    "import numpy as np"
   ]
  },
  {
   "cell_type": "code",
   "execution_count": 2,
   "id": "71ae660f",
   "metadata": {
    "execution": {
     "iopub.execute_input": "2022-12-05T09:39:09.871223Z",
     "iopub.status.busy": "2022-12-05T09:39:09.870817Z",
     "iopub.status.idle": "2022-12-05T09:39:09.922379Z",
     "shell.execute_reply": "2022-12-05T09:39:09.920508Z"
    },
    "papermill": {
     "duration": 0.056959,
     "end_time": "2022-12-05T09:39:09.925125",
     "exception": false,
     "start_time": "2022-12-05T09:39:09.868166",
     "status": "completed"
    },
    "tags": []
   },
   "outputs": [
    {
     "name": "stdout",
     "output_type": "stream",
     "text": [
      "0.9733333333333334\n"
     ]
    },
    {
     "name": "stderr",
     "output_type": "stream",
     "text": [
      "/opt/conda/lib/python3.7/site-packages/sklearn/linear_model/_logistic.py:818: ConvergenceWarning: lbfgs failed to converge (status=1):\n",
      "STOP: TOTAL NO. of ITERATIONS REACHED LIMIT.\n",
      "\n",
      "Increase the number of iterations (max_iter) or scale the data as shown in:\n",
      "    https://scikit-learn.org/stable/modules/preprocessing.html\n",
      "Please also refer to the documentation for alternative solver options:\n",
      "    https://scikit-learn.org/stable/modules/linear_model.html#logistic-regression\n",
      "  extra_warning_msg=_LOGISTIC_SOLVER_CONVERGENCE_MSG,\n"
     ]
    }
   ],
   "source": [
    "X,y = load_iris(return_X_y=True)\n",
    "clf = LogisticRegression().fit(X,y)\n",
    "pred = clf.predict(X[:2,:])\n",
    "proba = clf.predict_proba(X[:2,:])\n",
    "print(clf.score(X,y))"
   ]
  },
  {
   "cell_type": "code",
   "execution_count": null,
   "id": "fa151060",
   "metadata": {
    "papermill": {
     "duration": 0.001443,
     "end_time": "2022-12-05T09:39:09.928542",
     "exception": false,
     "start_time": "2022-12-05T09:39:09.927099",
     "status": "completed"
    },
    "tags": []
   },
   "outputs": [],
   "source": []
  }
 ],
 "metadata": {
  "kernelspec": {
   "display_name": "Python 3",
   "language": "python",
   "name": "python3"
  },
  "language_info": {
   "codemirror_mode": {
    "name": "ipython",
    "version": 3
   },
   "file_extension": ".py",
   "mimetype": "text/x-python",
   "name": "python",
   "nbconvert_exporter": "python",
   "pygments_lexer": "ipython3",
   "version": "3.7.12"
  },
  "papermill": {
   "default_parameters": {},
   "duration": 12.518238,
   "end_time": "2022-12-05T09:39:10.750958",
   "environment_variables": {},
   "exception": null,
   "input_path": "__notebook__.ipynb",
   "output_path": "__notebook__.ipynb",
   "parameters": {},
   "start_time": "2022-12-05T09:38:58.232720",
   "version": "2.3.4"
  }
 },
 "nbformat": 4,
 "nbformat_minor": 5
}
