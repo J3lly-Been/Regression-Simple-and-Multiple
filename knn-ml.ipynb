{
 "cells": [
  {
   "cell_type": "code",
   "execution_count": 1,
   "id": "79e64cd9",
   "metadata": {
    "execution": {
     "iopub.execute_input": "2023-01-03T09:44:01.559256Z",
     "iopub.status.busy": "2023-01-03T09:44:01.558011Z",
     "iopub.status.idle": "2023-01-03T09:44:01.575239Z",
     "shell.execute_reply": "2023-01-03T09:44:01.573524Z"
    },
    "papermill": {
     "duration": 0.028282,
     "end_time": "2023-01-03T09:44:01.579120",
     "exception": false,
     "start_time": "2023-01-03T09:44:01.550838",
     "status": "completed"
    },
    "tags": []
   },
   "outputs": [],
   "source": [
    "#import Packages\n",
    "import numpy as np \n",
    "import pandas as pd\n",
    "import matplotlib.pyplot as plt"
   ]
  },
  {
   "cell_type": "code",
   "execution_count": 2,
   "id": "8abd6c4c",
   "metadata": {
    "execution": {
     "iopub.execute_input": "2023-01-03T09:44:01.588158Z",
     "iopub.status.busy": "2023-01-03T09:44:01.587643Z",
     "iopub.status.idle": "2023-01-03T09:44:01.626302Z",
     "shell.execute_reply": "2023-01-03T09:44:01.624901Z"
    },
    "papermill": {
     "duration": 0.0467,
     "end_time": "2023-01-03T09:44:01.629316",
     "exception": false,
     "start_time": "2023-01-03T09:44:01.582616",
     "status": "completed"
    },
    "tags": []
   },
   "outputs": [],
   "source": [
    "#Read Dataset\n",
    "dataset = pd.read_csv(\"/kaggle/input/my-data/kdata.csv\") \n",
    "x = dataset[['X','Y']]\n",
    "y = dataset[['Class']]"
   ]
  },
  {
   "cell_type": "code",
   "execution_count": 3,
   "id": "dacc41e8",
   "metadata": {
    "execution": {
     "iopub.execute_input": "2023-01-03T09:44:01.639337Z",
     "iopub.status.busy": "2023-01-03T09:44:01.638006Z",
     "iopub.status.idle": "2023-01-03T09:44:01.934942Z",
     "shell.execute_reply": "2023-01-03T09:44:01.933469Z"
    },
    "papermill": {
     "duration": 0.305751,
     "end_time": "2023-01-03T09:44:01.938303",
     "exception": false,
     "start_time": "2023-01-03T09:44:01.632552",
     "status": "completed"
    },
    "tags": []
   },
   "outputs": [
    {
     "data": {
      "text/plain": [
       "<matplotlib.collections.PathCollection at 0x7f0425b52310>"
      ]
     },
     "execution_count": 3,
     "metadata": {},
     "output_type": "execute_result"
    },
    {
     "data": {
      "image/png": "[encoded data removed]",
      "text/plain": [
       "<Figure size 432x288 with 1 Axes>"
      ]
     },
     "metadata": {
      "needs_background": "light"
     },
     "output_type": "display_data"
    }
   ],
   "source": [
    "#Dataset visualization\n",
    "plt.scatter(dataset['X'][dataset.Class == 'negative'], dataset['Y'][dataset.Class == 'negative'],color = 'orange',marker = ',')\n",
    "plt.scatter(dataset['X'][dataset.Class == 'positive'], dataset['Y'][dataset.Class == 'positive'],color = 'blue')"
   ]
  },
  {
   "cell_type": "code",
   "execution_count": 4,
   "id": "cca32efd",
   "metadata": {
    "execution": {
     "iopub.execute_input": "2023-01-03T09:44:01.947732Z",
     "iopub.status.busy": "2023-01-03T09:44:01.947232Z",
     "iopub.status.idle": "2023-01-03T09:44:03.480094Z",
     "shell.execute_reply": "2023-01-03T09:44:03.478529Z"
    },
    "papermill": {
     "duration": 1.541519,
     "end_time": "2023-01-03T09:44:03.483536",
     "exception": false,
     "start_time": "2023-01-03T09:44:01.942017",
     "status": "completed"
    },
    "tags": []
   },
   "outputs": [
    {
     "name": "stderr",
     "output_type": "stream",
     "text": [
      "/opt/conda/lib/python3.7/site-packages/sklearn/neighbors/_classification.py:198: DataConversionWarning: A column-vector y was passed when a 1d array was expected. Please change the shape of y to (n_samples,), for example using ravel().\n",
      "  return self._fit(X, y)\n"
     ]
    },
    {
     "data": {
      "text/plain": [
       "KNeighborsClassifier(n_neighbors=3)"
      ]
     },
     "execution_count": 4,
     "metadata": {},
     "output_type": "execute_result"
    }
   ],
   "source": [
    "#import KNeighbors Classifier and create object of it \n",
    "from sklearn.neighbors import KNeighborsClassifier\n",
    "\n",
    "classifier=KNeighborsClassifier(n_neighbors=3) \n",
    "classifier.fit(x,y)"
   ]
  },
  {
   "cell_type": "code",
   "execution_count": 5,
   "id": "cba8dc75",
   "metadata": {
    "execution": {
     "iopub.execute_input": "2023-01-03T09:44:03.494131Z",
     "iopub.status.busy": "2023-01-03T09:44:03.492822Z",
     "iopub.status.idle": "2023-01-03T09:44:03.506484Z",
     "shell.execute_reply": "2023-01-03T09:44:03.505132Z"
    },
    "papermill": {
     "duration": 0.022146,
     "end_time": "2023-01-03T09:44:03.509574",
     "exception": false,
     "start_time": "2023-01-03T09:44:03.487428",
     "status": "completed"
    },
    "tags": []
   },
   "outputs": [
    {
     "name": "stdout",
     "output_type": "stream",
     "text": [
      "General KNN: ['negative']\n"
     ]
    },
    {
     "name": "stderr",
     "output_type": "stream",
     "text": [
      "/opt/conda/lib/python3.7/site-packages/sklearn/base.py:451: UserWarning: X does not have valid feature names, but KNeighborsClassifier was fitted with feature names\n",
      "  \"X does not have valid feature names, but\"\n"
     ]
    }
   ],
   "source": [
    "#predict class for the points (6,6)\n",
    "X_test = np.array([6,6]) \n",
    "y_pred = classifier.predict([X_test])\n",
    "print ('General KNN:', y_pred)"
   ]
  },
  {
   "cell_type": "code",
   "execution_count": 6,
   "id": "e6ae2584",
   "metadata": {
    "execution": {
     "iopub.execute_input": "2023-01-03T09:44:03.520049Z",
     "iopub.status.busy": "2023-01-03T09:44:03.519488Z",
     "iopub.status.idle": "2023-01-03T09:44:03.533699Z",
     "shell.execute_reply": "2023-01-03T09:44:03.531381Z"
    },
    "papermill": {
     "duration": 0.02312,
     "end_time": "2023-01-03T09:44:03.536491",
     "exception": false,
     "start_time": "2023-01-03T09:44:03.513371",
     "status": "completed"
    },
    "tags": []
   },
   "outputs": [
    {
     "name": "stderr",
     "output_type": "stream",
     "text": [
      "/opt/conda/lib/python3.7/site-packages/sklearn/neighbors/_classification.py:198: DataConversionWarning: A column-vector y was passed when a 1d array was expected. Please change the shape of y to (n_samples,), for example using ravel().\n",
      "  return self._fit(X, y)\n"
     ]
    },
    {
     "data": {
      "text/plain": [
       "KNeighborsClassifier(n_neighbors=3, weights='distance')"
      ]
     },
     "execution_count": 6,
     "metadata": {},
     "output_type": "execute_result"
    }
   ],
   "source": [
    "#create object of KNeighbors Classifier with weights\n",
    "classifier = KNeighborsClassifier(n_neighbors = 3, weights = 'distance') \n",
    "classifier.fit(x,y)"
   ]
  },
  {
   "cell_type": "code",
   "execution_count": 7,
   "id": "a9fe4a25",
   "metadata": {
    "execution": {
     "iopub.execute_input": "2023-01-03T09:44:03.548518Z",
     "iopub.status.busy": "2023-01-03T09:44:03.547978Z",
     "iopub.status.idle": "2023-01-03T09:44:03.557749Z",
     "shell.execute_reply": "2023-01-03T09:44:03.555731Z"
    },
    "papermill": {
     "duration": 0.021022,
     "end_time": "2023-01-03T09:44:03.561719",
     "exception": false,
     "start_time": "2023-01-03T09:44:03.540697",
     "status": "completed"
    },
    "tags": []
   },
   "outputs": [
    {
     "name": "stdout",
     "output_type": "stream",
     "text": [
      "Distance Weighted KNN : ['negative']\n"
     ]
    },
    {
     "name": "stderr",
     "output_type": "stream",
     "text": [
      "/opt/conda/lib/python3.7/site-packages/sklearn/base.py:451: UserWarning: X does not have valid feature names, but KNeighborsClassifier was fitted with feature names\n",
      "  \"X does not have valid feature names, but\"\n"
     ]
    }
   ],
   "source": [
    "#predict class for the points (6,6)\n",
    "X_test = np.array([6,6])\n",
    "y_pred = classifier.predict([X_test])\n",
    "print('Distance Weighted KNN :', y_pred)"
   ]
  }
 ],
 "metadata": {
  "kernelspec": {
   "display_name": "Python 3",
   "language": "python",
   "name": "python3"
  },
  "language_info": {
   "codemirror_mode": {
    "name": "ipython",
    "version": 3
   },
   "file_extension": ".py",
   "mimetype": "text/x-python",
   "name": "python",
   "nbconvert_exporter": "python",
   "pygments_lexer": "ipython3",
   "version": "3.7.12"
  },
  "papermill": {
   "default_parameters": {},
   "duration": 14.545867,
   "end_time": "2023-01-03T09:44:04.701689",
   "environment_variables": {},
   "exception": null,
   "input_path": "__notebook__.ipynb",
   "output_path": "__notebook__.ipynb",
   "parameters": {},
   "start_time": "2023-01-03T09:43:50.155822",
   "version": "2.3.4"
  }
 },
 "nbformat": 4,
 "nbformat_minor": 5
}
